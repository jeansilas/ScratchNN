{
 "cells": [
  {
   "cell_type": "markdown",
   "metadata": {},
   "source": [
    "# A Single Neuron"
   ]
  },
  {
   "cell_type": "code",
   "execution_count": 2,
   "metadata": {},
   "outputs": [],
   "source": [
    "import numpy as np\n",
    "import matplotlib.pyplot as plt"
   ]
  },
  {
   "cell_type": "code",
   "execution_count": 4,
   "metadata": {},
   "outputs": [
    {
     "name": "stdout",
     "output_type": "stream",
     "text": [
      "7.50\n"
     ]
    }
   ],
   "source": [
    "# Input Values of a single neuron\n",
    "inputs = [27,3,12]\n",
    "\n",
    "# Random values for Weights\n",
    "weights = [0.1,-0.5,0.4]\n",
    "\n",
    "# A Bias value for one single neuron\n",
    "bias = 1.5\n",
    "\n",
    "# result of output if the model were one single neuron\n",
    "output = inputs[0]*weights[0] + inputs[1]*weights[1] + inputs[2]*weights[2] + bias\n",
    "\n",
    "#Displays outpult result with two decimals numbers\n",
    "print(f'{output:.2f}')"
   ]
  },
  {
   "cell_type": "markdown",
   "metadata": {},
   "source": [
    "# A Layer of Neurons"
   ]
  },
  {
   "cell_type": "code",
   "execution_count": 14,
   "metadata": {},
   "outputs": [
    {
     "name": "stdout",
     "output_type": "stream",
     "text": [
      "[7.900000000000001, 7.390000000000001, 7.58]\n"
     ]
    }
   ],
   "source": [
    " b\n",
    "\n",
    "# result of outputs\n",
    "outputs = [0.0,0.0,0.0]\n",
    "outputs[0] = inputs[0]*weight_1[0] + inputs[1]*weight_1[1] + inputs[2]*weight_1[2] + inputs[3]*weight_1[3] + bias_1\n",
    "outputs[1] = inputs[0]*weight_2[0] + inputs[1]*weight_2[1] + inputs[2]*weight_2[2] + inputs[3]*weight_2[3] + bias_2\n",
    "outputs[2] = inputs[0]*weight_3[0] + inputs[1]*weight_3[1] + inputs[2]*weight_3[2] + inputs[3]*weight_3[3] + bias_3\n",
    "\n",
    "\n",
    "\n",
    "#Displays outpult result with two decimals numbers\n",
    "print(f'{outputs}')"
   ]
  },
  {
   "cell_type": "markdown",
   "metadata": {},
   "source": [
    "# A Layer of Neurons ( But more sofisticated)"
   ]
  },
  {
   "cell_type": "code",
   "execution_count": 15,
   "metadata": {},
   "outputs": [],
   "source": [
    "# Input Values of a single neuron\n",
    "inputs = [27,3,12,4]\n",
    "\n",
    "# Random values for Weights\n",
    "weight_1 = [0.1,-0.5,0.4,0.1]\n",
    "weight_2 = [0.14,-0.17,0.04,0.81]\n",
    "weight_3 = [0.21,0.33,0.35,-0.32]\n",
    "\n",
    "# Random Values for Bias\n",
    "bias_1 = 1.5\n",
    "bias_2 = 0.4\n",
    "bias_3 = -2.0\n",
    "\n",
    "# Just a quick stop to review some hot topics in python that might be useful for us in this topic :)"
   ]
  },
  {
   "cell_type": "code",
   "execution_count": 16,
   "metadata": {},
   "outputs": [
    {
     "name": "stdout",
     "output_type": "stream",
     "text": [
      "<zip object at 0x0000021FD1B3F300>\n"
     ]
    }
   ],
   "source": [
    "# What if the number of neurons were way bigger? it´d be far hard work to compute. That´s why we are going to use iterables\n",
    "#objects and loops to achieve our goals in here.\n",
    "\n",
    "# Firstly, let´s take a look at a very useful tool that pythons makes available for us: Zip\n",
    "\n",
    "ex1 = [\"cat\",\"dog\",\"turtle\"]\n",
    "\n",
    "ex2 = [1,2,3]\n",
    "\n",
    "ex_zip = zip(ex1,ex2)\n",
    "\n",
    "print(ex_zip)"
   ]
  },
  {
   "cell_type": "code",
   "execution_count": 17,
   "metadata": {},
   "outputs": [
    {
     "name": "stdout",
     "output_type": "stream",
     "text": [
      "[('cat', 1), ('dog', 2), ('turtle', 3)]\n"
     ]
    }
   ],
   "source": [
    "# As you can see, the result is an object zip. In case you want to to visualize it, you just need to turn it into a list:\n",
    "\n",
    "ex_zip_list = list(ex_zip)\n",
    "\n",
    "print(ex_zip_list)"
   ]
  },
  {
   "cell_type": "code",
   "execution_count": 18,
   "metadata": {},
   "outputs": [],
   "source": [
    "# As you can see, it turns the items in each iterable object into a pair that is paralallel.\n",
    "# This is very useful to use in loops."
   ]
  },
  {
   "cell_type": "code",
   "execution_count": 19,
   "metadata": {},
   "outputs": [],
   "source": [
    "#Let´s go back to whats we were doing..."
   ]
  },
  {
   "cell_type": "code",
   "execution_count": 23,
   "metadata": {},
   "outputs": [
    {
     "name": "stdout",
     "output_type": "stream",
     "text": [
      "[7.900000000000001, 7.390000000000001, 7.58]\n"
     ]
    }
   ],
   "source": [
    "# Let´s put the weights and biases in lists:\n",
    "weights = [weight_1,weight_2,weight_3]\n",
    "biases = [bias_1,bias_2,bias_3]\n",
    "\n",
    "# Let´s calculate the outputs\n",
    "\n",
    "outputs= []\n",
    "\n",
    "for Weights,bias in zip(weights,biases):\n",
    "    output = 0\n",
    "    for weight,input_ in zip(Weights,inputs):\n",
    "        output += weight*input_\n",
    "    outputs.append(output+bias)\n",
    "\n",
    "print(outputs)\n",
    "    "
   ]
  },
  {
   "cell_type": "code",
   "execution_count": null,
   "metadata": {},
   "outputs": [],
   "source": []
  }
 ],
 "metadata": {
  "kernelspec": {
   "display_name": "Python 3",
   "language": "python",
   "name": "python3"
  },
  "language_info": {
   "codemirror_mode": {
    "name": "ipython",
    "version": 3
   },
   "file_extension": ".py",
   "mimetype": "text/x-python",
   "name": "python",
   "nbconvert_exporter": "python",
   "pygments_lexer": "ipython3",
   "version": "3.8.5"
  }
 },
 "nbformat": 4,
 "nbformat_minor": 4
}
