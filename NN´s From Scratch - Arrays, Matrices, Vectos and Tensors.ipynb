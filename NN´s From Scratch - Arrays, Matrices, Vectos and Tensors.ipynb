{
 "cells": [
  {
   "cell_type": "markdown",
   "metadata": {},
   "source": [
    "# Arrays"
   ]
  },
  {
   "cell_type": "markdown",
   "metadata": {},
   "source": [
    "* Array is a structure that holds data that and is *homologous*.\n",
    "\n",
    "Matrices and vectors are a specific type of array:\n",
    "\n",
    "Examples:\n",
    "\n",
    "<code>Ex_Array_1D = [1,2,3]      *(3)* </code> $->$ *_it´s an array_*\n",
    "\n",
    "<code>Ex_Array_2D = [[1,2,3],[2,4,6]]     *(2,3)* </code> $->$ *_it´s an array_*\n",
    "\n",
    "\n",
    "<code>Ex_Array_3D = [[[1,2,3],[2,4,6]],[[0.5,1,1.5],[1,2,3]]]      *(2,2,3)*</code> $->$ *_it´s an array_*\n",
    "\n",
    "\n",
    "<code>Ex_Array_2D = [[1,2,3],[2,4]]</code> $->$  *_it´s not an array, since it´s not homologous_*\n",
    "\n",
    "* To count the size of an array we always put the size of the most internal sets from the right to the left*"
   ]
  },
  {
   "cell_type": "markdown",
   "metadata": {},
   "source": [
    "## Vector"
   ]
  },
  {
   "cell_type": "markdown",
   "metadata": {},
   "source": [
    "* A vector is a 1D - one dimensional - structure that holds data separated. In the world of programming, in special in pyhton language, it can be described by a List.\n",
    "\n",
    "Example:"
   ]
  },
  {
   "cell_type": "markdown",
   "metadata": {},
   "source": [
    "<code>Ex_Vector = [1,3,5,7] </code>\n",
    "\n",
    "We can say its dimension is: <code>4</code>\n"
   ]
  },
  {
   "cell_type": "markdown",
   "metadata": {},
   "source": [
    "## Matrice"
   ]
  },
  {
   "cell_type": "markdown",
   "metadata": {},
   "source": [
    "* A matrice is 2D - two dimensional - structure that holds vectors separated. Here in python, it can described as List of list or a Numpy object.\n",
    "\n",
    "Example:\n",
    "\n",
    "<code>Ex_Matrice = [[1,3,5,7],[2,6,10,14],[3,9,15,21]]</code>\n",
    "\n",
    "We can say its dimension is: <code>(3,4)</code>"
   ]
  },
  {
   "cell_type": "markdown",
   "metadata": {},
   "source": [
    "## 3D Arrays"
   ]
  },
  {
   "cell_type": "markdown",
   "metadata": {},
   "source": [
    "* A 3D Array is a - three dimension - structure that holds matrices separated. Here in python, it can be described as a List of lists of lists.\n",
    "\n",
    "Example:\n",
    "\n",
    "<code>Ex_3DArray =  [[[1,3,5,7],[2,6,10,14],[3,9,15,21]],[[5,15,25,35],[10,30,50,70],[15,45,75,110]]]</code>\n",
    "\n",
    "We can say its dimension is: <code>(2,3,4)</code>"
   ]
  },
  {
   "cell_type": "markdown",
   "metadata": {},
   "source": [
    "<pre>\n",
    "\n",
    "\n",
    "</pre>\n",
    "\n",
    "__Once understood the concept of arrays, we can move on to the tensors__\n",
    "<pre>\n",
    "\n",
    "</pre>"
   ]
  },
  {
   "cell_type": "markdown",
   "metadata": {},
   "source": [
    "# Tensors"
   ]
  },
  {
   "cell_type": "markdown",
   "metadata": {},
   "source": [
    " __There are some deep discussions about what are tensors in the worldwide, however for our purpose - which is Neural Networks - it´s not needed to sink in these discussions. We can just focus on the below quote:__"
   ]
  },
  {
   "cell_type": "markdown",
   "metadata": {},
   "source": [
    ">*__Tensors are mathmatical structures that in the world of programming can be represented by arrays__*"
   ]
  },
  {
   "cell_type": "markdown",
   "metadata": {},
   "source": [
    "# Arrays Operations"
   ]
  },
  {
   "cell_type": "markdown",
   "metadata": {},
   "source": [
    "## Dot Product"
   ]
  },
  {
   "cell_type": "markdown",
   "metadata": {},
   "source": [
    "* It´s an operation between two arrays of the same size ( most extenal size, in case  arrays do not have the same dimension) which results in a scalar number"
   ]
  },
  {
   "cell_type": "markdown",
   "metadata": {},
   "source": [
    "<code>\n",
    "VctA = [1,2,4]\n",
    "VctB = [-3,0.5,5]\n",
    "Result = 1*(-3)+2*0.5*4*5\n",
    "Result = 18\n",
    "</code>\n",
    "\n",
    "Or using Numpy:\n",
    "\n",
    "<code>\n",
    "import numpy as np\n",
    "\n",
    "VctA = [1,2,4]\n",
    "VctB = [-3,0.5,5]\n",
    "Result = np.dot(VctA,VctB)\n",
    "Result = 18 \n",
    "</code>"
   ]
  },
  {
   "cell_type": "markdown",
   "metadata": {},
   "source": [
    "## Cross Product"
   ]
  },
  {
   "cell_type": "markdown",
   "metadata": {},
   "source": [
    "* It´s an operation between arrays of the same dimension which results in an other vectorial number"
   ]
  },
  {
   "cell_type": "markdown",
   "metadata": {},
   "source": [
    "Even though, it's as important as the Dot Product, it´ll not be covered now, since it won´t be used now"
   ]
  },
  {
   "cell_type": "markdown",
   "metadata": {},
   "source": [
    "# Coding a Single Neuron using Numpy"
   ]
  },
  {
   "cell_type": "code",
   "execution_count": 2,
   "metadata": {},
   "outputs": [
    {
     "name": "stdout",
     "output_type": "stream",
     "text": [
      "7.50\n"
     ]
    }
   ],
   "source": [
    "import numpy as np\n",
    "\n",
    "# Input Values of a single neuron\n",
    "inputs = [27,3,12]\n",
    "\n",
    "# Random values for Weights\n",
    "weights = [0.1,-0.5,0.4]\n",
    "\n",
    "# A Bias value for one single neuron\n",
    "bias = 1.5\n",
    "\n",
    "# result of output if the model were one single neuron\n",
    "output = np.dot(weights,inputs) + bias\n",
    "\n",
    "#Displays outpult result with two decimals numbers\n",
    "print(f'{output:.2f}')"
   ]
  },
  {
   "cell_type": "markdown",
   "metadata": {},
   "source": [
    "# Coding  a Layers of Neurons using Numpy"
   ]
  },
  {
   "cell_type": "code",
   "execution_count": 3,
   "metadata": {},
   "outputs": [
    {
     "name": "stdout",
     "output_type": "stream",
     "text": [
      "[7.9  7.39 7.58]\n"
     ]
    }
   ],
   "source": [
    "# Input Values of a single neuron\n",
    "inputs = [27,3,12,4]\n",
    "\n",
    "# Random values for Weights\n",
    "weight_1 = [0.1,-0.5,0.4,0.1]\n",
    "weight_2 = [0.14,-0.17,0.04,0.81]\n",
    "weight_3 = [0.21,0.33,0.35,-0.32]\n",
    "\n",
    "# Random Values for Bias\n",
    "bias_1 = 1.5\n",
    "bias_2 = 0.4\n",
    "bias_3 = -2.0\n",
    "\n",
    "# Let´s put the weights and biases in lists:\n",
    "weights = [weight_1,weight_2,weight_3]\n",
    "biases = [bias_1,bias_2,bias_3]\n",
    "\n",
    "# Let´s calculate the outputs\n",
    "outputs = np.dot(weights,inputs) + biases\n",
    "\n",
    "# Displaying the output result\n",
    "print(outputs)"
   ]
  }
 ],
 "metadata": {
  "kernelspec": {
   "display_name": "Python 3",
   "language": "python",
   "name": "python3"
  },
  "language_info": {
   "codemirror_mode": {
    "name": "ipython",
    "version": 3
   },
   "file_extension": ".py",
   "mimetype": "text/x-python",
   "name": "python",
   "nbconvert_exporter": "python",
   "pygments_lexer": "ipython3",
   "version": "3.8.5"
  }
 },
 "nbformat": 4,
 "nbformat_minor": 4
}
