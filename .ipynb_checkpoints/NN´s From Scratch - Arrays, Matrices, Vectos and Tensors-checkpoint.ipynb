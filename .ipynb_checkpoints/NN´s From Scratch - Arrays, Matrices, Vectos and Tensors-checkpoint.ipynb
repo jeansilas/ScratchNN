{
 "cells": [
  {
   "cell_type": "markdown",
   "metadata": {},
   "source": [
    "# Arrays"
   ]
  },
  {
   "cell_type": "markdown",
   "metadata": {},
   "source": [
    "* Array is a structure that holds data that and is *homologous*.\n",
    "\n",
    "Matrices and vectors are a specific type of array:\n",
    "\n",
    "Examples:\n",
    "\n",
    "<code>Ex_Array_1D = [1,2,3]      *(3)* </code> $->$ *_it´s an array_*\n",
    "\n",
    "<code>Ex_Array_2D = [[1,2,3],[2,4,6]]     *(2,3)* </code> $->$ *_it´s an array_*\n",
    "\n",
    "\n",
    "<code>Ex_Array_3D = [[[1,2,3],[2,4,6]],[[0.5,1,1.5],[1,2,3]]]      *(2,2,3)*</code> $->$ *_it´s an array_*\n",
    "\n",
    "\n",
    "<code>Ex_Array_2D = [[1,2,3],[2,4]]</code> $->$  *_it´s not an array, since it´s not homologous_*\n",
    "\n",
    "* To count the size of an array we always put the size of the most internal sets from the right to the left*"
   ]
  },
  {
   "cell_type": "markdown",
   "metadata": {},
   "source": [
    "## Vector"
   ]
  },
  {
   "cell_type": "markdown",
   "metadata": {},
   "source": [
    "* A vector is a 1D - one dimensional - structure that holds data separated. In the world of programming, in special in pyhton language, it can be described by a List.\n",
    "\n",
    "Example:"
   ]
  },
  {
   "cell_type": "markdown",
   "metadata": {},
   "source": [
    "<code>Ex_Vector = [1,3,5,7] </code>\n",
    "\n",
    "We can say its dimension is: <code>4</code>\n"
   ]
  },
  {
   "cell_type": "markdown",
   "metadata": {},
   "source": [
    "## Matrice"
   ]
  },
  {
   "cell_type": "markdown",
   "metadata": {},
   "source": [
    "* A matrice is 2D - two dimensional - structure that holds vectors separated. Here in python, it can described as List of list or a Numpy object.\n",
    "\n",
    "Example:\n",
    "\n",
    "<code>Ex_Matrice = [[1,3,5,7],[2,6,10,14],[3,9,15,21]]</code>\n",
    "\n",
    "We can say its dimension is: <code>(3,4)</code>"
   ]
  },
  {
   "cell_type": "markdown",
   "metadata": {},
   "source": [
    "## 3D Arrays"
   ]
  },
  {
   "cell_type": "markdown",
   "metadata": {},
   "source": [
    "* A 3D Array is a - three dimension - structure that holds matrices separated. Here in python, it can be described as a List of lists of lists.\n",
    "\n",
    "Example:\n",
    "\n",
    "<code>Ex_3DArray =  [[[1,3,5,7],[2,6,10,14],[3,9,15,21]],[[5,15,25,35],[10,30,50,70],[15,45,75,110]]]</code>\n",
    "\n",
    "We can say its dimension is: <code>(2,3,4)</code>"
   ]
  },
  {
   "cell_type": "markdown",
   "metadata": {},
   "source": [
    "<pre>\n",
    "\n",
    "\n",
    "</pre>\n",
    "\n",
    "__Once understood the concept of arrays, we can move on to the tensors__\n",
    "<pre>\n",
    "\n",
    "</pre>"
   ]
  },
  {
   "cell_type": "markdown",
   "metadata": {},
   "source": [
    "# Tensors"
   ]
  },
  {
   "cell_type": "markdown",
   "metadata": {},
   "source": [
    " __There are some deep discussions about what are tensors in the worldwide, however for our purpose - which is Neural Networks - it´s not needed to sink in these discussions. We can just focus on the below quote:__"
   ]
  },
  {
   "cell_type": "markdown",
   "metadata": {},
   "source": [
    ">*__Tensors are mathmatical structures that in the world of programming can be represented by arrays__*"
   ]
  }
 ],
 "metadata": {
  "kernelspec": {
   "display_name": "Python 3",
   "language": "python",
   "name": "python3"
  },
  "language_info": {
   "codemirror_mode": {
    "name": "ipython",
    "version": 3
   },
   "file_extension": ".py",
   "mimetype": "text/x-python",
   "name": "python",
   "nbconvert_exporter": "python",
   "pygments_lexer": "ipython3",
   "version": "3.8.5"
  }
 },
 "nbformat": 4,
 "nbformat_minor": 4
}
